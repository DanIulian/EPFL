{
 "cells": [
  {
   "cell_type": "code",
   "execution_count": 2,
   "metadata": {},
   "outputs": [],
   "source": [
    "import torch\n",
    "import numpy as np\n",
    "import dlc_practical_prologue as prologue"
   ]
  },
  {
   "cell_type": "code",
   "execution_count": 3,
   "metadata": {},
   "outputs": [],
   "source": [
    "def sigma(x):\n",
    "    return torch.tanh(x)\n",
    "\n",
    "def dsigma(x):\n",
    "    return torch.mul(torch.pow(1 - sigma(x), 2), torch.exp(2 * x))"
   ]
  },
  {
   "cell_type": "code",
   "execution_count": 6,
   "metadata": {},
   "outputs": [],
   "source": [
    "def loss(v, t):\n",
    "    return torch.pow(t - v, 2).sum()\n",
    "\n",
    "def dloss(v, t):\n",
    "    return 2 * (v - t)"
   ]
  },
  {
   "cell_type": "code",
   "execution_count": 34,
   "metadata": {},
   "outputs": [],
   "source": [
    "def forward_pass(w1, b1, w2, b2, x):\n",
    "    x0 = x\n",
    "    s1 = w1 @ x0 + b1\n",
    "    x1 = sigma(s1)\n",
    "    s2 = w2 @ x1 + b2\n",
    "    x2 = sigma(s2)\n",
    "    return x0, s1, x1, s2, x2\n",
    "\n",
    "def backward_pass(w1, b1, w2, b2,\n",
    "                  t,\n",
    "                  x0, s1, x1, s2, x2,\n",
    "                  dl_dw1, dl_db1, dl_dw2, dl_db2):\n",
    "    d2 = 2 * torch.mul(sigma(s2) - t, dsigma(s2)).view(-1,1)\n",
    "    dl_dw2 += d2 @ x1.view(1,-1)\n",
    "    dl_db2 += d2\n",
    "    d1 = torch.mul(w2.t() @ d2, dsigma(s1)).view(-1,1)\n",
    "    dl_dw1 += d1 @ x0.view(1,-1)\n",
    "    dl_db1 += d1"
   ]
  },
  {
   "cell_type": "code",
   "execution_count": 46,
   "metadata": {},
   "outputs": [
    {
     "name": "stdout",
     "output_type": "stream",
     "text": [
      "* Using MNIST\n",
      "** Reduce the data-set (use --full for the full thing)\n",
      "** Use 1000 train and 1000 test samples\n",
      "Step 0 -> Training error: 88.3. Test error: 90.1\n",
      "Step 100 -> Training error: 17.9. Test error: 27.3\n",
      "Step 200 -> Training error: 6.4. Test error: 17.4\n",
      "Step 300 -> Training error: 3.0. Test error: 15.3\n",
      "Step 400 -> Training error: 2.7. Test error: 16.9\n",
      "Step 500 -> Training error: 1.2. Test error: 16.1\n",
      "Step 600 -> Training error: 0.7. Test error: 16.4\n",
      "Step 700 -> Training error: 0.6. Test error: 17.0\n",
      "Step 800 -> Training error: 0.2. Test error: 17.0\n",
      "Step 900 -> Training error: 0.1. Test error: 16.7\n"
     ]
    }
   ],
   "source": [
    "# Load data\n",
    "train_input, train_target, test_input, test_target = prologue.load_data(False, True, True)\n",
    "# Make targets fall strictly in tanh range\n",
    "train_target *= 0.9\n",
    "test_target *= 0.9\n",
    "\n",
    "# Initialize weights\n",
    "np.random.seed(1)\n",
    "EPS = 1e-6\n",
    "INPUT_SIZE = 784\n",
    "HIDDEN_SIZE = 50\n",
    "OUTPUT_SIZE = 10\n",
    "w1 = torch.Tensor(np.random.normal(0, EPS, (HIDDEN_SIZE, INPUT_SIZE)))\n",
    "b1 = torch.Tensor(np.random.normal(0, EPS, (HIDDEN_SIZE, 1)))\n",
    "w2 = torch.Tensor(np.random.normal(0, EPS, (OUTPUT_SIZE, HIDDEN_SIZE)))\n",
    "b2 = torch.Tensor(np.random.normal(0, EPS, (OUTPUT_SIZE, 1)))\n",
    "\n",
    "# Create gradient accumulators\n",
    "dl_dw1 = torch.zeros((HIDDEN_SIZE, INPUT_SIZE))\n",
    "dl_db1 = torch.zeros((HIDDEN_SIZE, 1))\n",
    "dl_dw2 = torch.zeros((OUTPUT_SIZE, HIDDEN_SIZE))\n",
    "dl_db2 = torch.zeros((OUTPUT_SIZE, 1))\n",
    "\n",
    "# Train\n",
    "STEPS = 1000\n",
    "PRINT_STEPS = 100\n",
    "gamma = 0.1 / train_input.shape[0]\n",
    "for step in range(STEPS):\n",
    "    # Set gradients to zero\n",
    "    dl_dw1.zero_()\n",
    "    dl_db1.zero_()\n",
    "    dl_dw2.zero_()\n",
    "    dl_db2.zero_()\n",
    "    # Go over all examples\n",
    "    for x, t in zip(train_input, train_target):\n",
    "        x0, s1, x1, s2, x2 = forward_pass(w1, b1, w2, b2, x.view(-1,1))\n",
    "        backward_pass(w1, b1, w2, b2, t.view(-1,1), x0, s1, x1, s2, x2, dl_dw1, dl_db1, dl_dw2, dl_db2)\n",
    "    # Update weights\n",
    "    w1 -= gamma * dl_dw1\n",
    "    b1 -= gamma * dl_db1\n",
    "    w2 -= gamma * dl_dw2\n",
    "    b2 -= gamma * dl_db2\n",
    "    # Compute losses\n",
    "    if step % PRINT_STEPS == 0:\n",
    "        _, _, _, _, y_tr = forward_pass(w1, b1, w2, b2, train_input.t())\n",
    "        _, pred_tr = y_tr.max(0)\n",
    "        _, real_tr = train_target.max(1)\n",
    "        error_tr = 100 * (pred_tr != real_tr).sum().item() / real_tr.shape[0]\n",
    "        _, _, _, _, y_te = forward_pass(w1, b1, w2, b2, test_input.t())\n",
    "        _, pred_te = y_te.max(0)\n",
    "        _, real_te = test_target.max(1)\n",
    "        error_te = 100 * (pred_te != real_te).sum().item() / real_te.shape[0]\n",
    "        print(f'Step {step} -> Training error: {error_tr}. Test error: {error_te}')"
   ]
  }
 ],
 "metadata": {
  "kernelspec": {
   "display_name": "Python 3",
   "language": "python",
   "name": "python3"
  },
  "language_info": {
   "codemirror_mode": {
    "name": "ipython",
    "version": 3
   },
   "file_extension": ".py",
   "mimetype": "text/x-python",
   "name": "python",
   "nbconvert_exporter": "python",
   "pygments_lexer": "ipython3",
   "version": "3.7.2"
  }
 },
 "nbformat": 4,
 "nbformat_minor": 2
}
