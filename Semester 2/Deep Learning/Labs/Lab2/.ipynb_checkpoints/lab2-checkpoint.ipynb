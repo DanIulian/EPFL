{
 "cells": [
  {
   "cell_type": "code",
   "execution_count": 4,
   "metadata": {},
   "outputs": [],
   "source": [
    "import torch\n",
    "from torch import Tensor\n",
    "import dlc_practical_prologue as prologue\n",
    "import numpy as np"
   ]
  },
  {
   "cell_type": "markdown",
   "metadata": {},
   "source": [
    "### 1. Nearest Neighbor\n",
    "Write a function that gets a training set and a test sample and returns the label of the training point\n",
    "the closest to the latter."
   ]
  },
  {
   "cell_type": "code",
   "execution_count": null,
   "metadata": {
    "collapsed": true
   },
   "outputs": [],
   "source": [
    "def nearest_classification(train_input, train_target, x):\n",
    "    diffs = train_input - x\n",
    "    sqs  = torch.pow(diffs, 2)\n",
    "    norms = torch.mean(sqs, axis=0)\n",
    "    _, min_ind = norms.min(0)\n",
    "    return train_target[[min_ind]\n",
    "                        \n",
    "train_input = torch.te[[1,1,1], [1,2,3], [3,1,2]]\n",
    "train_target = [1,2,3]"
   ]
  }
 ],
 "metadata": {
  "kernelspec": {
   "display_name": "Python 3",
   "language": "python",
   "name": "python3"
  },
  "language_info": {
   "codemirror_mode": {
    "name": "ipython",
    "version": 3
   },
   "file_extension": ".py",
   "mimetype": "text/x-python",
   "name": "python",
   "nbconvert_exporter": "python",
   "pygments_lexer": "ipython3",
   "version": "3.7.2"
  }
 },
 "nbformat": 4,
 "nbformat_minor": 2
}
