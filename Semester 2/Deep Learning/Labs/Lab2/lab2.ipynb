{
 "cells": [
  {
   "cell_type": "code",
   "execution_count": 1,
   "metadata": {},
   "outputs": [],
   "source": [
    "import torch\n",
    "from torch import Tensor\n",
    "import dlc_practical_prologue as prologue\n",
    "import numpy as np"
   ]
  },
  {
   "cell_type": "markdown",
   "metadata": {},
   "source": [
    "### 1. Nearest Neighbor\n",
    "Write a function that gets a training set and a test sample and returns the label of the training point\n",
    "the closest to the latter."
   ]
  },
  {
   "cell_type": "code",
   "execution_count": 2,
   "metadata": {},
   "outputs": [],
   "source": [
    "def nearest_classification(train_input, train_target, x):\n",
    "    diffs = train_input - x\n",
    "    sqs  = torch.pow(diffs, 2)\n",
    "    norms = torch.mean(sqs, 1)\n",
    "    _, min_ind = norms.min(0)\n",
    "    return train_target[min_ind]"
   ]
  },
  {
   "cell_type": "markdown",
   "metadata": {},
   "source": [
    "### 2. Error estimation"
   ]
  },
  {
   "cell_type": "code",
   "execution_count": 3,
   "metadata": {},
   "outputs": [],
   "source": [
    "def compute_nb_errors(train_input, train_target, test_input, test_target, mean = None, proj = None):\n",
    "    if mean is not None:\n",
    "        train_input -= mean\n",
    "        test_input -= mean\n",
    "    if proj is not None:\n",
    "        train_input = train_input @ proj.t()\n",
    "        test_input = test_input @ proj.t()\n",
    "    # Count of misclassified points\n",
    "    loss = 0\n",
    "    for x, y in zip(test_input, test_target):\n",
    "        loss += (nearest_classification(train_input, train_target, x) != y)\n",
    "    return loss.item()"
   ]
  },
  {
   "cell_type": "markdown",
   "metadata": {},
   "source": [
    "### 3. PCA"
   ]
  },
  {
   "cell_type": "code",
   "execution_count": 4,
   "metadata": {},
   "outputs": [],
   "source": [
    "def PCA(x):\n",
    "    mean = x.mean(0)\n",
    "    b = x - mean\n",
    "    sigma = b.t() @ b\n",
    "    eigenvalues, eigenvectors = sigma.eig(True)\n",
    "    ordered_eigs = eigenvalues[:, 0].abs().sort(0, True)[1]\n",
    "    eigenvectors = eigenvectors.t()[ordered_eigs]\n",
    "    return mean, eigenvectors"
   ]
  },
  {
   "cell_type": "markdown",
   "metadata": {},
   "source": [
    "### 4. Evaluation"
   ]
  },
  {
   "cell_type": "code",
   "execution_count": 5,
   "metadata": {},
   "outputs": [
    {
     "name": "stdout",
     "output_type": "stream",
     "text": [
      "* Using MNIST\n",
      "** Reduce the data-set (use --full for the full thing)\n",
      "** Use 1000 train and 1000 test samples\n",
      "Baseline nb_errors 172 error 17.20%\n",
      "Random 100d nb_errors 212 error 21.20%\n",
      "PCA 100d nb_errors 164 error 16.40%\n",
      "PCA 50d nb_errors 155 error 15.50%\n",
      "PCA 10d nb_errors 214 error 21.40%\n",
      "PCA 3d nb_errors 85 error 8.50%\n",
      "* Using CIFAR\n",
      "Files already downloaded and verified\n",
      "Files already downloaded and verified\n",
      "** Reduce the data-set (use --full for the full thing)\n",
      "** Use 1000 train and 1000 test samples\n",
      "Baseline nb_errors 234 error 23.40%\n",
      "Random 100d nb_errors 11 error 1.10%\n",
      "PCA 100d nb_errors 233 error 23.30%\n",
      "PCA 50d nb_errors 225 error 22.50%\n",
      "PCA 10d nb_errors 251 error 25.10%\n",
      "PCA 3d nb_errors 71 error 7.10%\n"
     ]
    }
   ],
   "source": [
    "for c in [ False, True ]:\n",
    "    train_input, train_target, test_input, test_target = prologue.load_data(cifar=c)\n",
    "\n",
    "    nb_errors = compute_nb_errors(train_input, train_target, test_input, test_target)\n",
    "    print('Baseline nb_errors {:d} error {:.02f}%'.format(nb_errors, 100 * nb_errors / test_input.size(0)))\n",
    "\n",
    "    basis = train_input.new(100, train_input.size(1)).normal_()\n",
    "\n",
    "    nb_errors = compute_nb_errors(train_input, train_target, test_input, test_target, None, basis)\n",
    "    print('Random {:d}d nb_errors {:d} error {:.02f}%'.format(basis.size(0), nb_errors, 100 * nb_errors / test_input.size(0)))\n",
    "\n",
    "    mean, basis = PCA(train_input)\n",
    "\n",
    "    for d in [ 100, 50, 10, 3 ]:\n",
    "        nb_errors = compute_nb_errors(train_input, train_target, test_input, test_target, mean, basis[:d])\n",
    "        print('PCA {:d}d nb_errors {:d} error {:.02f}%'.format(d, nb_errors, 100 * nb_errors / test_input.size(0)))"
   ]
  }
 ],
 "metadata": {
  "kernelspec": {
   "display_name": "Python 3",
   "language": "python",
   "name": "python3"
  },
  "language_info": {
   "codemirror_mode": {
    "name": "ipython",
    "version": 3
   },
   "file_extension": ".py",
   "mimetype": "text/x-python",
   "name": "python",
   "nbconvert_exporter": "python",
   "pygments_lexer": "ipython3",
   "version": "3.7.2"
  }
 },
 "nbformat": 4,
 "nbformat_minor": 2
}
