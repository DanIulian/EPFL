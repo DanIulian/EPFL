{
 "cells": [
  {
   "cell_type": "markdown",
   "metadata": {},
   "source": [
    "# Assignment 2: Voting Visualized"
   ]
  },
  {
   "cell_type": "markdown",
   "metadata": {},
   "source": [
    "## Deadline\n",
    "\n",
    "Oct. 24th\n",
    "\n",
    "## Important notes\n",
    "\n",
    "- Make sure you push on GitHub your notebook with all the cells already evaluated.\n",
    "- Note that maps do not render in a standard Github environment. You should export them to HTML and link them in your notebook.\n",
    "- Don't forget to add a textual description of your thought process, the assumptions you made, and the solution you implemented.\n",
    "- Please write all your comments in English, and use meaningful variable names in your code.\n",
    "- Your repo should have a single notebook (plus the data files necessary) in the master branch. If there are multiple notebooks present, we will not grade anything. \n",
    "\n",
    "## Background\n"
   ]
  },
  {
   "cell_type": "markdown",
   "metadata": {},
   "source": [
    "* Are you curious to know what the political leanings of the people of Switzerland are?\n",
    "* Do you wake up in a cold sweat, wondering which party won the last cantonal parliament election in Vaud?\n",
    "* Are you looking to learn all sorts of visualizations, including maps, in Python?\n",
    "\n",
    "If your answer to any of the above is yes, this assignment is just right for you. Otherwise, it's still an assignment, so we're terribly sorry.\n",
    "\n",
    "The chief aim of this assignment is to familiarize you with visualizations in Python, particularly maps, and also to give you some insight into how visualizations are to be interpreted. The data we will use is the data on Swiss cantonal parliament elections from 2007 to 2018, which contains, for each cantonal election in this time period, the voting percentages for each party and canton.\n",
    "\n",
    "For the visualization part, install [Folium](Folium) (_Hint: it is not available in your standard Anaconda environment, therefore search on the Web how to install it easily!_). Folium's README comes with very clear examples, and links to their own iPython Notebooks -- make good use of this information. For your own convenience, in this same directory you can already find one TopoJSON file, containing the geo-coordinates of the cantonal borders of Switzerland.\n",
    "\n",
    "One last, general reminder: back up any hypotheses and claims with data, since this is an important aspect of the course."
   ]
  },
  {
   "cell_type": "code",
   "execution_count": 1,
   "metadata": {},
   "outputs": [],
   "source": [
    "# Put your imports here.\n",
    "import pandas as pd\n",
    "import numpy as np\n",
    "import os\n",
    "import json\n",
    "import folium\n",
    "import matplotlib.pyplot as plt\n",
    "from folium import plugins\n",
    "from branca.colormap import linear\n",
    "import urllib.request\n",
    "import copy as cp\n"
   ]
  },
  {
   "cell_type": "code",
   "execution_count": 2,
   "metadata": {},
   "outputs": [],
   "source": [
    "data_folder = './data/'"
   ]
  },
  {
   "cell_type": "markdown",
   "metadata": {},
   "source": [
    "## Task 1: Cartography and census\n",
    "\n",
    "__A)__ Display a Swiss map that has cantonal borders as well as the national borders. We provide a TopoJSON `data/ch-cantons.topojson.json` that contains the borders of the cantons.\n",
    "\n",
    "__B)__ Take the spreadsheet `data/communes_pop.xls`, collected from [admin.ch](https://www.bfs.admin.ch/bfs/fr/home/statistiques/catalogues-banques-donnees/tableaux.assetdetail.5886191.html), containing population figures for every commune. You can use [pd.read_excel()](https://pandas.pydata.org/pandas-docs/version/0.20/generated/pandas.read_excel.html) to read the file and to select specific sheets. Plot a histogram of the population counts and explain your observations. Do not use a log-scale plot for now. What does this histogram tell you about urban and rural communes in Switzerland? Are there any clear outliers on either side, and if so, which communes?\n",
    "\n",
    "__C)__ The figure below represents 4 types of histogram. At this stage, our distribution should look like Fig.(a). A common way to represent [power-laws](https://en.wikipedia.org/wiki/Power_law) is to use a histogram using a log-log scale  -- remember: the x-axis of an histogram is segmented in bins of equal sizes and y-values are the average of each bin. As shown in Fig.(b), small bins sizes might introduce artifacts. Fig.(b) and Fig.(c) are examples of histograms with two different bin sizes. Another great way to visualize such distribution is to use a cumulative representation, as show in Fig.(d), in which the y-axis represents the number of data points with values greater than y.  \n",
    "  \n",
    "Create the figures (b) and (d) using the data extracted for task 1B. For Fig.(b), represent two histograms using two different bin sizes and provide a brief description of the results. What does this tell you about the relationship between the two variables, namely the frequency of each bin and the value (i.e. population in case of the communal data) for each bin?\n",
    "\n",
    "<img src=\"plaw_crop.png\" style=\"width: 600px;\">\n",
    "  \n",
    "The figure is extracted from [this paper](https://arxiv.org/pdf/cond-mat/0412004.pdf) that contains more information about this family of distributions."
   ]
  },
  {
   "cell_type": "markdown",
   "metadata": {},
   "source": [
    "### Task1 __A)__ Display a Swiss map that has cantonal borders as well as the national borders."
   ]
  },
  {
   "cell_type": "code",
   "execution_count": 3,
   "metadata": {},
   "outputs": [],
   "source": [
    "#load topojson data\n",
    "suisse_cantons = data_folder + 'ch-cantons.topojson.json'\n",
    "\n",
    "m_suisse = folium.Map(\n",
    "    location=[46.7,8],\n",
    "    tiles='Mapbox Bright',\n",
    "    zoom_start=7\n",
    ")\n",
    "\n",
    "# show the switerland map by TopoJson\n",
    "folium.TopoJson(\n",
    "    open(suisse_cantons),\n",
    "    'objects.cantons',\n",
    "    name='suisse_cantons'\n",
    ").add_to(m_suisse)\n",
    "\n",
    "folium.LayerControl().add_to(m_suisse)\n",
    "\n",
    "#save the map\n",
    "m_suisse.save('./Swiss_Map.html')"
   ]
  },
  {
   "cell_type": "markdown",
   "metadata": {},
   "source": [
    "[Click to see the Swiss map](https://wanhaozhou.github.io/docs/Swiss_Map.html)"
   ]
  },
  {
   "cell_type": "markdown",
   "metadata": {},
   "source": [
    "### Task1 __B)__ Plot a histogram of the population counts and explain your observations. "
   ]
  },
  {
   "cell_type": "code",
   "execution_count": 4,
   "metadata": {},
   "outputs": [
    {
     "data": {
      "text/html": [
       "<div>\n",
       "<style scoped>\n",
       "    .dataframe tbody tr th:only-of-type {\n",
       "        vertical-align: middle;\n",
       "    }\n",
       "\n",
       "    .dataframe tbody tr th {\n",
       "        vertical-align: top;\n",
       "    }\n",
       "\n",
       "    .dataframe thead th {\n",
       "        text-align: right;\n",
       "    }\n",
       "</style>\n",
       "<table border=\"1\" class=\"dataframe\">\n",
       "  <thead>\n",
       "    <tr style=\"text-align: right;\">\n",
       "      <th></th>\n",
       "      <th>commune</th>\n",
       "      <th>population_Jan</th>\n",
       "      <th>birth_alive</th>\n",
       "      <th>death</th>\n",
       "      <th>natrual_increase</th>\n",
       "      <th>arrivals</th>\n",
       "      <th>departure</th>\n",
       "      <th>migratory_balance</th>\n",
       "      <th>divergence_statistic</th>\n",
       "      <th>population_Dec</th>\n",
       "      <th>variation_num</th>\n",
       "      <th>variation_ratio</th>\n",
       "    </tr>\n",
       "  </thead>\n",
       "  <tbody>\n",
       "    <tr>\n",
       "      <th>0</th>\n",
       "      <td>Suisse 2)</td>\n",
       "      <td>8419550</td>\n",
       "      <td>87381</td>\n",
       "      <td>66971</td>\n",
       "      <td>20410</td>\n",
       "      <td>681011</td>\n",
       "      <td>635063</td>\n",
       "      <td>45948</td>\n",
       "      <td>-1778</td>\n",
       "      <td>8484130</td>\n",
       "      <td>64580</td>\n",
       "      <td>0.767024</td>\n",
       "    </tr>\n",
       "    <tr>\n",
       "      <th>1</th>\n",
       "      <td>- Zürich</td>\n",
       "      <td>1487969</td>\n",
       "      <td>17070</td>\n",
       "      <td>11076</td>\n",
       "      <td>5994</td>\n",
       "      <td>120593</td>\n",
       "      <td>108666</td>\n",
       "      <td>11927</td>\n",
       "      <td>-1544</td>\n",
       "      <td>1504346</td>\n",
       "      <td>16377</td>\n",
       "      <td>1.100628</td>\n",
       "    </tr>\n",
       "    <tr>\n",
       "      <th>2</th>\n",
       "      <td>&gt;&gt; Bezirk Affoltern</td>\n",
       "      <td>52904</td>\n",
       "      <td>517</td>\n",
       "      <td>310</td>\n",
       "      <td>207</td>\n",
       "      <td>4501</td>\n",
       "      <td>3862</td>\n",
       "      <td>639</td>\n",
       "      <td>21</td>\n",
       "      <td>53771</td>\n",
       "      <td>867</td>\n",
       "      <td>1.638817</td>\n",
       "    </tr>\n",
       "    <tr>\n",
       "      <th>3</th>\n",
       "      <td>......0001 Aeugst am Albis</td>\n",
       "      <td>1977</td>\n",
       "      <td>10</td>\n",
       "      <td>7</td>\n",
       "      <td>3</td>\n",
       "      <td>129</td>\n",
       "      <td>165</td>\n",
       "      <td>-36</td>\n",
       "      <td>-3</td>\n",
       "      <td>1941</td>\n",
       "      <td>-36</td>\n",
       "      <td>-1.820941</td>\n",
       "    </tr>\n",
       "    <tr>\n",
       "      <th>4</th>\n",
       "      <td>......0002 Affoltern am Albis</td>\n",
       "      <td>11900</td>\n",
       "      <td>128</td>\n",
       "      <td>93</td>\n",
       "      <td>35</td>\n",
       "      <td>1239</td>\n",
       "      <td>1029</td>\n",
       "      <td>210</td>\n",
       "      <td>1</td>\n",
       "      <td>12146</td>\n",
       "      <td>246</td>\n",
       "      <td>2.067227</td>\n",
       "    </tr>\n",
       "  </tbody>\n",
       "</table>\n",
       "</div>"
      ],
      "text/plain": [
       "                         commune  population_Jan  birth_alive  death  \\\n",
       "0                      Suisse 2)         8419550        87381  66971   \n",
       "1                       - Zürich         1487969        17070  11076   \n",
       "2            >> Bezirk Affoltern           52904          517    310   \n",
       "3     ......0001 Aeugst am Albis            1977           10      7   \n",
       "4  ......0002 Affoltern am Albis           11900          128     93   \n",
       "\n",
       "   natrual_increase  arrivals  departure  migratory_balance  \\\n",
       "0             20410    681011     635063              45948   \n",
       "1              5994    120593     108666              11927   \n",
       "2               207      4501       3862                639   \n",
       "3                 3       129        165                -36   \n",
       "4                35      1239       1029                210   \n",
       "\n",
       "   divergence_statistic  population_Dec  variation_num  variation_ratio  \n",
       "0                 -1778         8484130          64580         0.767024  \n",
       "1                 -1544         1504346          16377         1.100628  \n",
       "2                    21           53771            867         1.638817  \n",
       "3                    -3            1941            -36        -1.820941  \n",
       "4                     1           12146            246         2.067227  "
      ]
     },
     "execution_count": 4,
     "metadata": {},
     "output_type": "execute_result"
    }
   ],
   "source": [
    "#read the communes_pop excel table\n",
    "commune_pop = pd.read_excel(data_folder+'communes_pop.xls',skiprows=5,skipfooter=7,\n",
    "                            sheet_name='2017',names=['commune','population_Jan',\n",
    "                                                     'birth_alive','death','natrual_increase',\n",
    "                                                     'arrivals','departure','migratory_balance',\n",
    "                                                     'divergence_statistic','population_Dec','variation_num',\n",
    "                                                     'variation_ratio'])\n",
    "commune_pop.head()"
   ]
  },
  {
   "cell_type": "code",
   "execution_count": 5,
   "metadata": {},
   "outputs": [
    {
     "data": {
      "text/html": [
       "<div>\n",
       "<style scoped>\n",
       "    .dataframe tbody tr th:only-of-type {\n",
       "        vertical-align: middle;\n",
       "    }\n",
       "\n",
       "    .dataframe tbody tr th {\n",
       "        vertical-align: top;\n",
       "    }\n",
       "\n",
       "    .dataframe thead th {\n",
       "        text-align: right;\n",
       "    }\n",
       "</style>\n",
       "<table border=\"1\" class=\"dataframe\">\n",
       "  <thead>\n",
       "    <tr style=\"text-align: right;\">\n",
       "      <th></th>\n",
       "      <th>commune</th>\n",
       "      <th>population_Jan</th>\n",
       "      <th>birth_alive</th>\n",
       "      <th>death</th>\n",
       "      <th>natrual_increase</th>\n",
       "      <th>arrivals</th>\n",
       "      <th>departure</th>\n",
       "      <th>migratory_balance</th>\n",
       "      <th>divergence_statistic</th>\n",
       "      <th>population_Dec</th>\n",
       "      <th>variation_num</th>\n",
       "      <th>variation_ratio</th>\n",
       "    </tr>\n",
       "  </thead>\n",
       "  <tbody>\n",
       "    <tr>\n",
       "      <th>3</th>\n",
       "      <td>......0001 Aeugst am Albis</td>\n",
       "      <td>1977</td>\n",
       "      <td>10</td>\n",
       "      <td>7</td>\n",
       "      <td>3</td>\n",
       "      <td>129</td>\n",
       "      <td>165</td>\n",
       "      <td>-36</td>\n",
       "      <td>-3</td>\n",
       "      <td>1941</td>\n",
       "      <td>-36</td>\n",
       "      <td>-1.820941</td>\n",
       "    </tr>\n",
       "    <tr>\n",
       "      <th>4</th>\n",
       "      <td>......0002 Affoltern am Albis</td>\n",
       "      <td>11900</td>\n",
       "      <td>128</td>\n",
       "      <td>93</td>\n",
       "      <td>35</td>\n",
       "      <td>1239</td>\n",
       "      <td>1029</td>\n",
       "      <td>210</td>\n",
       "      <td>1</td>\n",
       "      <td>12146</td>\n",
       "      <td>246</td>\n",
       "      <td>2.067227</td>\n",
       "    </tr>\n",
       "    <tr>\n",
       "      <th>5</th>\n",
       "      <td>......0003 Bonstetten</td>\n",
       "      <td>5435</td>\n",
       "      <td>47</td>\n",
       "      <td>25</td>\n",
       "      <td>22</td>\n",
       "      <td>374</td>\n",
       "      <td>322</td>\n",
       "      <td>52</td>\n",
       "      <td>3</td>\n",
       "      <td>5512</td>\n",
       "      <td>77</td>\n",
       "      <td>1.416743</td>\n",
       "    </tr>\n",
       "    <tr>\n",
       "      <th>6</th>\n",
       "      <td>......0004 Hausen am Albis</td>\n",
       "      <td>3571</td>\n",
       "      <td>27</td>\n",
       "      <td>20</td>\n",
       "      <td>7</td>\n",
       "      <td>298</td>\n",
       "      <td>217</td>\n",
       "      <td>81</td>\n",
       "      <td>5</td>\n",
       "      <td>3664</td>\n",
       "      <td>93</td>\n",
       "      <td>2.604313</td>\n",
       "    </tr>\n",
       "    <tr>\n",
       "      <th>7</th>\n",
       "      <td>......0005 Hedingen</td>\n",
       "      <td>3687</td>\n",
       "      <td>31</td>\n",
       "      <td>20</td>\n",
       "      <td>11</td>\n",
       "      <td>224</td>\n",
       "      <td>231</td>\n",
       "      <td>-7</td>\n",
       "      <td>3</td>\n",
       "      <td>3694</td>\n",
       "      <td>7</td>\n",
       "      <td>0.189856</td>\n",
       "    </tr>\n",
       "  </tbody>\n",
       "</table>\n",
       "</div>"
      ],
      "text/plain": [
       "                         commune  population_Jan  birth_alive  death  \\\n",
       "3     ......0001 Aeugst am Albis            1977           10      7   \n",
       "4  ......0002 Affoltern am Albis           11900          128     93   \n",
       "5          ......0003 Bonstetten            5435           47     25   \n",
       "6     ......0004 Hausen am Albis            3571           27     20   \n",
       "7            ......0005 Hedingen            3687           31     20   \n",
       "\n",
       "   natrual_increase  arrivals  departure  migratory_balance  \\\n",
       "3                 3       129        165                -36   \n",
       "4                35      1239       1029                210   \n",
       "5                22       374        322                 52   \n",
       "6                 7       298        217                 81   \n",
       "7                11       224        231                 -7   \n",
       "\n",
       "   divergence_statistic  population_Dec  variation_num  variation_ratio  \n",
       "3                    -3            1941            -36        -1.820941  \n",
       "4                     1           12146            246         2.067227  \n",
       "5                     3            5512             77         1.416743  \n",
       "6                     5            3664             93         2.604313  \n",
       "7                     3            3694              7         0.189856  "
      ]
     },
     "execution_count": 5,
     "metadata": {},
     "output_type": "execute_result"
    }
   ],
   "source": [
    "#select the communes that the names start with '......' in the sheet. And then copy in the pop_per_commune\n",
    "pop_per_commune = commune_pop[[name.startswith('......') for name in commune_pop.commune]].copy()\n",
    "pop_per_commune.head()\n"
   ]
  },
  {
   "cell_type": "code",
   "execution_count": 6,
   "metadata": {},
   "outputs": [
    {
     "data": {
      "text/plain": [
       "commune                 ......0261 Zürich\n",
       "population_Jan                     402762\n",
       "birth_alive                          5289\n",
       "death                                3486\n",
       "natrual_increase                     1803\n",
       "arrivals                            35044\n",
       "departure                           28684\n",
       "migratory_balance                    6360\n",
       "divergence_statistic                -1684\n",
       "population_Dec                     409241\n",
       "variation_num                        6479\n",
       "variation_ratio                   1.60864\n",
       "Name: 181, dtype: object"
      ]
     },
     "execution_count": 6,
     "metadata": {},
     "output_type": "execute_result"
    }
   ],
   "source": [
    "#find out the commune that has the maxium population in January and present this commune other population information\n",
    "pop_per_commune.loc[pop_per_commune['population_Jan'].idxmax()]"
   ]
  },
  {
   "cell_type": "code",
   "execution_count": 7,
   "metadata": {},
   "outputs": [
    {
     "data": {
      "image/png": "[encoded data removed]",
      "text/plain": [
       "<Figure size 432x288 with 1 Axes>"
      ]
     },
     "metadata": {
      "needs_background": "light"
     },
     "output_type": "display_data"
    }
   ],
   "source": [
    "#plot out the histogram of population Counts in December\n",
    "plt.hist(pop_per_commune.population_Dec,bins=100,histtype='step')\n",
    "plt.title('Histogram of Population')\n",
    "plt.ylabel('# of cantons')\n",
    "plt.xlabel('population')\n",
    "plt.show()"
   ]
  },
  {
   "cell_type": "markdown",
   "metadata": {},
   "source": [
    "### Answers to Question Task1.B\n",
    "### What does this histogram tell you about urban and rural communes in Switzerland? Are there any clear outliers on either side, and if so, which communes?\n",
    "1). The urban and rural areas of switzerland are very different in population. The urban areas usually have much more population than the rural areas. But the number of rurals areas are much more than that of urban ones.\n",
    "\n",
    "2). Although we cannot see any clear outlier in the figure above, the outliers do exist and were found in the following log-scale figures. \n",
    "\n"
   ]
  },
  {
   "cell_type": "markdown",
   "metadata": {},
   "source": [
    "### Task1 __C)__Recreate the Figure b) and d)"
   ]
  },
  {
   "cell_type": "code",
   "execution_count": 8,
   "metadata": {},
   "outputs": [
    {
     "data": {
      "image/png": "[encoded data removed]",
      "text/plain": [
       "<Figure size 432x288 with 1 Axes>"
      ]
     },
     "metadata": {
      "needs_background": "light"
     },
     "output_type": "display_data"
    }
   ],
   "source": [
    "#recreate figure b) under the bin size as 100 without log-scale\n",
    "array_100 = plt.hist(pop_per_commune.population_Dec,bins=100,log=True,histtype='step')\n",
    "plt.title('Histogram of Population')\n",
    "plt.ylabel('# of cantons (in log scale)')\n",
    "plt.xlabel('population')\n",
    "plt.show()"
   ]
  },
  {
   "cell_type": "code",
   "execution_count": 9,
   "metadata": {},
   "outputs": [
    {
     "data": {
      "image/png": "[encoded data removed]",
      "text/plain": [
       "<Figure size 432x288 with 1 Axes>"
      ]
     },
     "metadata": {},
     "output_type": "display_data"
    }
   ],
   "source": [
    "# recreate figure b) with log-scale, bin size=100\n",
    "plt.loglog(array_100[1][1:],array_100[0])\n",
    "plt.title('Histogram of Population')\n",
    "plt.ylabel('# of cantons (in log scale)')\n",
    "plt.xlabel('population (in log scale)')\n",
    "plt.show()"
   ]
  },
  {
   "cell_type": "code",
   "execution_count": 10,
   "metadata": {},
   "outputs": [
    {
     "data": {
      "image/png": "[encoded data removed]",
      "text/plain": [
       "<Figure size 432x288 with 1 Axes>"
      ]
     },
     "metadata": {},
     "output_type": "display_data"
    }
   ],
   "source": [
    "#recreate figure c) under the bin size as 1000 without log-scale\n",
    "array_1000 = plt.hist(pop_per_commune.population_Dec,bins=1000,log=True,histtype='step')\n",
    "plt.title('Histogram of Population')\n",
    "plt.ylabel('# of cantons (in log scale)')\n",
    "plt.xlabel('population')\n",
    "plt.show()"
   ]
  },
  {
   "cell_type": "code",
   "execution_count": 11,
   "metadata": {},
   "outputs": [
    {
     "data": {
      "image/png": "[encoded data removed]",
      "text/plain": [
       "<Figure size 432x288 with 1 Axes>"
      ]
     },
     "metadata": {},
     "output_type": "display_data"
    }
   ],
   "source": [
    "#recreate the figure c) in the log-scale, bin size=1000\n",
    "plt.loglog(array_1000[1][1:],array_1000[0])\n",
    "plt.title('Histogram of Population')\n",
    "plt.ylabel('# of cantons (in log scale)')\n",
    "plt.xlabel('population (in log scale)')\n",
    "plt.show()"
   ]
  },
  {
   "cell_type": "code",
   "execution_count": 12,
   "metadata": {
    "scrolled": true
   },
   "outputs": [
    {
     "data": {
      "image/png": "[encoded data removed]",
      "text/plain": [
       "<Figure size 432x288 with 1 Axes>"
      ]
     },
     "metadata": {},
     "output_type": "display_data"
    }
   ],
   "source": [
    "# plot the cumulative histogram under the bin size as 100 without log-scale\n",
    "array_cumulative=plt.hist(pop_per_commune.population_Dec,bins=100,log=True,cumulative=-1,histtype='step')\n",
    "plt.title('Histogram of Population (cumulative)')\n",
    "plt.ylabel('# of cantons (in log scale)')\n",
    "plt.xlabel('population')\n",
    "plt.show()"
   ]
  },
  {
   "cell_type": "code",
   "execution_count": 13,
   "metadata": {
    "scrolled": true
   },
   "outputs": [
    {
     "data": {
      "image/png": "[encoded data removed]",
      "text/plain": [
       "<Figure size 432x288 with 1 Axes>"
      ]
     },
     "metadata": {},
     "output_type": "display_data"
    }
   ],
   "source": [
    "# recreate the figure d) in the log-scale, bin size=100\n",
    "plt.loglog(array_cumulative[1][1:],array_cumulative[0])\n",
    "plt.title('Histogram of Population (cumulative)')\n",
    "plt.ylabel('# of cantons (in log scale)')\n",
    "plt.xlabel('population (in log scale)')\n",
    "plt.show()"
   ]
  },
  {
   "cell_type": "markdown",
   "metadata": {},
   "source": [
    "### Answers to Task1.C\n",
    "###  Provide a brief description of the results. What does this tell you about the relationship between the two variables, namely the frequency of each bin and the value (i.e. population in case of the communal data) for each bin?\n",
    "\n",
    "As the figure shown in Task1.B, more or less we can observe that the larger is the population and the fewer of the number of the communes. However, the outliers which represent the larger population are hardly observed in this graph due to the huge difference between the number of cantons with small population and those with large population.\n",
    "\n",
    "Whereas in the Task1.C, the outlier problem is perfectly solved by the log-log scale. In the log-log scale, the relationship between the frequency of each population and corressponding population was more clearly observed, which means **the larger the population and the smaller number of commune**. Moreover, the **outliers which mainly are urban communes (Zurich, Genève, Basel, Laussanea, Bern, etc.) are clearly shown in this case since the gap between the log(counts of big population communes) and log(counts of small population communes) decreased**.\n",
    "\n",
    "But one thing should be noted is that in the log-log plot, the noise could be introduced on the tail of the axis due to the small bin size. To avoid introducing noise, the cumulative histogram was used. In the case of cumulative histogram, not only the relationship of the two variables was clearly shown but also the noise can be eliminated."
   ]
  },
  {
   "cell_type": "markdown",
   "metadata": {},
   "source": [
    "## Task 2: Parties visualized\n",
    "\n",
    "We provide a spreadsheet, `data/voters.xls`, (again) collected from [admin.ch](https://www.bfs.admin.ch/bfs/fr/home/statistiques/politique/elections/conseil-national/force-partis.assetdetail.217195.html), which contains the percentage of voters for each party and for each canton. For the following task, we will focus on the period 2014-2018 (the first page of the spreadsheet). Please report any assumptions you make regarding outliers, missing values, etc. Notice that data is missing for two cantons, namely Appenzell Ausserrhoden and Graubünden, and your visualisations should include data for every other canton.\n",
    "\n",
    "\n",
    "__A)__ For the period 2014-2018 and for each canton, visualize, on the map, **the percentage of voters** in that canton who voted for the party [`UDC`](https://en.wikipedia.org/wiki/Swiss_People%27s_Party) (Union démocratique du centre). Does this party seem to be more popular in the German-speaking part, the French-speaking part, or the Italian-speaking part?\n",
    "\n",
    "__B)__ For the same period, now visualize **the number of residents** in each canton who voted for UDC.\n",
    "\n",
    "__C)__ Which one of the two visualizations above would be more informative in case of a national election with majority voting (i.e. when a party needs to have the largest number of citizens voting for it among all parties)? Which one is more informative for the cantonal parliament elections?\n",
    "\n",
    "For part B, you can use the `data/national_council_elections.xslx` file ([guess where we got it from](https://www.bfs.admin.ch/bfs/fr/home/statistiques/politique/elections/conseil-national/participation.assetdetail.81625.html)) to have the voting-eligible population of each canton in 2015."
   ]
  },
  {
   "cell_type": "markdown",
   "metadata": {},
   "source": [
    "### Task2 __A)__ visualize **the percentage of voters** in that canton who voted for the party UDC\n",
    "\n"
   ]
  },
  {
   "cell_type": "code",
   "execution_count": 14,
   "metadata": {},
   "outputs": [],
   "source": [
    "#read the excel and skip those rows with value missing in UDC\n",
    "voters_udc = pd.read_excel(data_folder+'voters.xls',sheet_name=0,usecols=[0,10],names=['canton','udc'])\n",
    "cantons = pd.read_csv(data_folder+'cantons.csv')\n",
    "nce_raw = pd.read_excel(data_folder+'national_council_elections.xlsx',\n",
    "                    sheet_name=0,names=['canton','reg_voter','elector','participation'])"
   ]
  },
  {
   "cell_type": "markdown",
   "metadata": {},
   "source": [
    "### Supplement remarks for the following cleaning data phase：\n",
    "We observed that the expression of the cantons names were not inconsistent in different files. For instances, the cantons names in Json files are in English but are in French in the voters files, which is not convenient for the further data analysis.\n",
    "\n",
    "However the order of the cantons names are the same no matter which file they are in,which means the same canton always has the same index among different files.\n",
    " \n",
    "So after deleting the rows that are not cantons, we decided to combine the 'cantons' and the 'voters_udc_nona' by the index to keep the cantons names consistent."
   ]
  },
  {
   "cell_type": "code",
   "execution_count": 15,
   "metadata": {},
   "outputs": [
    {
     "data": {
      "text/html": [
       "<div>\n",
       "<style scoped>\n",
       "    .dataframe tbody tr th:only-of-type {\n",
       "        vertical-align: middle;\n",
       "    }\n",
       "\n",
       "    .dataframe tbody tr th {\n",
       "        vertical-align: top;\n",
       "    }\n",
       "\n",
       "    .dataframe thead th {\n",
       "        text-align: right;\n",
       "    }\n",
       "</style>\n",
       "<table border=\"1\" class=\"dataframe\">\n",
       "  <thead>\n",
       "    <tr style=\"text-align: right;\">\n",
       "      <th></th>\n",
       "      <th>canton</th>\n",
       "      <th>reg_voter</th>\n",
       "      <th>elector</th>\n",
       "      <th>participation</th>\n",
       "    </tr>\n",
       "  </thead>\n",
       "  <tbody>\n",
       "    <tr>\n",
       "      <th>0</th>\n",
       "      <td>Zurich</td>\n",
       "      <td>907623</td>\n",
       "      <td>428837</td>\n",
       "      <td>47.2484</td>\n",
       "    </tr>\n",
       "    <tr>\n",
       "      <th>1</th>\n",
       "      <td>Berne</td>\n",
       "      <td>729203</td>\n",
       "      <td>357770</td>\n",
       "      <td>49.0632</td>\n",
       "    </tr>\n",
       "    <tr>\n",
       "      <th>2</th>\n",
       "      <td>Lucerne</td>\n",
       "      <td>271143</td>\n",
       "      <td>138096</td>\n",
       "      <td>50.9311</td>\n",
       "    </tr>\n",
       "    <tr>\n",
       "      <th>3</th>\n",
       "      <td>Uri 1)</td>\n",
       "      <td>26414</td>\n",
       "      <td>15091</td>\n",
       "      <td>57.1326</td>\n",
       "    </tr>\n",
       "    <tr>\n",
       "      <th>4</th>\n",
       "      <td>Schwytz</td>\n",
       "      <td>102145</td>\n",
       "      <td>54857</td>\n",
       "      <td>53.705</td>\n",
       "    </tr>\n",
       "  </tbody>\n",
       "</table>\n",
       "</div>"
      ],
      "text/plain": [
       "    canton reg_voter elector participation\n",
       "0   Zurich    907623  428837       47.2484\n",
       "1    Berne    729203  357770       49.0632\n",
       "2  Lucerne    271143  138096       50.9311\n",
       "3   Uri 1)     26414   15091       57.1326\n",
       "4  Schwytz    102145   54857        53.705"
      ]
     },
     "execution_count": 15,
     "metadata": {},
     "output_type": "execute_result"
    }
   ],
   "source": [
    "### cleaning the \"national_council_elections\" data ###\n",
    "#drop out the NaN values\n",
    "nce_nona = nce_raw.dropna()\n",
    "#drop out the 'Total' row\n",
    "nce = nce_nona.drop(6)\n",
    "#reset the index \n",
    "nce.index = range(len(nce.index))\n",
    "nce.head()"
   ]
  },
  {
   "cell_type": "code",
   "execution_count": 16,
   "metadata": {},
   "outputs": [
    {
     "data": {
      "text/html": [
       "<div>\n",
       "<style scoped>\n",
       "    .dataframe tbody tr th:only-of-type {\n",
       "        vertical-align: middle;\n",
       "    }\n",
       "\n",
       "    .dataframe tbody tr th {\n",
       "        vertical-align: top;\n",
       "    }\n",
       "\n",
       "    .dataframe thead th {\n",
       "        text-align: right;\n",
       "    }\n",
       "</style>\n",
       "<table border=\"1\" class=\"dataframe\">\n",
       "  <thead>\n",
       "    <tr style=\"text-align: right;\">\n",
       "      <th></th>\n",
       "      <th>canton</th>\n",
       "      <th>udc</th>\n",
       "    </tr>\n",
       "  </thead>\n",
       "  <tbody>\n",
       "    <tr>\n",
       "      <th>0</th>\n",
       "      <td>Zurich</td>\n",
       "      <td>30.0232</td>\n",
       "    </tr>\n",
       "    <tr>\n",
       "      <th>1</th>\n",
       "      <td>Berne</td>\n",
       "      <td>26.7609</td>\n",
       "    </tr>\n",
       "    <tr>\n",
       "      <th>2</th>\n",
       "      <td>Lucerne</td>\n",
       "      <td>24.1156</td>\n",
       "    </tr>\n",
       "    <tr>\n",
       "      <th>3</th>\n",
       "      <td>Uri 1)</td>\n",
       "      <td>24.0532</td>\n",
       "    </tr>\n",
       "    <tr>\n",
       "      <th>4</th>\n",
       "      <td>Schwytz</td>\n",
       "      <td>33.1151</td>\n",
       "    </tr>\n",
       "  </tbody>\n",
       "</table>\n",
       "</div>"
      ],
      "text/plain": [
       "    canton      udc\n",
       "0   Zurich  30.0232\n",
       "1   Berne   26.7609\n",
       "2  Lucerne  24.1156\n",
       "3   Uri 1)  24.0532\n",
       "4  Schwytz  33.1151"
      ]
     },
     "execution_count": 16,
     "metadata": {},
     "output_type": "execute_result"
    }
   ],
   "source": [
    "### cleaning the \"voters\" data ###\n",
    "#Since the cantons named Appenzell Ausserrhoden and Graubünden had no data, they locate in the table at row 23 and row 25 respectively\n",
    "#we set these two rows' vaules as a extremely small values so that they will not impact the further calculation\n",
    "voters_udc['udc'][23] = 1e-6\n",
    "voters_udc['udc'][25] = 1e-6\n",
    "\n",
    "#drop out the NaN values\n",
    "voters_udc_nona = voters_udc.dropna()\n",
    "#reset the data\n",
    "voters_udc_nona.index = range(len(voters_udc_nona.index))\n",
    "voters_udc_nona.head()"
   ]
  },
  {
   "cell_type": "code",
   "execution_count": 17,
   "metadata": {},
   "outputs": [
    {
     "data": {
      "text/html": [
       "<div>\n",
       "<style scoped>\n",
       "    .dataframe tbody tr th:only-of-type {\n",
       "        vertical-align: middle;\n",
       "    }\n",
       "\n",
       "    .dataframe tbody tr th {\n",
       "        vertical-align: top;\n",
       "    }\n",
       "\n",
       "    .dataframe thead th {\n",
       "        text-align: right;\n",
       "    }\n",
       "</style>\n",
       "<table border=\"1\" class=\"dataframe\">\n",
       "  <thead>\n",
       "    <tr style=\"text-align: right;\">\n",
       "      <th></th>\n",
       "      <th>Code</th>\n",
       "      <th>Canton of</th>\n",
       "      <th>Since</th>\n",
       "      <th>Capital</th>\n",
       "      <th>Population</th>\n",
       "      <th>GDP percapita (2014)[16]in CHF</th>\n",
       "      <th>Area (km2)</th>\n",
       "      <th>Density (per km2)[Note 4]</th>\n",
       "      <th>No. munic.</th>\n",
       "      <th>Official languages</th>\n",
       "    </tr>\n",
       "  </thead>\n",
       "  <tbody>\n",
       "    <tr>\n",
       "      <th>0</th>\n",
       "      <td>ZH</td>\n",
       "      <td>Zürich</td>\n",
       "      <td>1351</td>\n",
       "      <td>Zürich</td>\n",
       "      <td>1,504,346[17]</td>\n",
       "      <td>96,411</td>\n",
       "      <td>1,729</td>\n",
       "      <td>701</td>\n",
       "      <td>168</td>\n",
       "      <td>German</td>\n",
       "    </tr>\n",
       "    <tr>\n",
       "      <th>1</th>\n",
       "      <td>BE</td>\n",
       "      <td>Bern</td>\n",
       "      <td>1353</td>\n",
       "      <td>Bern</td>\n",
       "      <td>1,031,126[18]</td>\n",
       "      <td>76,307</td>\n",
       "      <td>5,960</td>\n",
       "      <td>158</td>\n",
       "      <td>352</td>\n",
       "      <td>German, French</td>\n",
       "    </tr>\n",
       "    <tr>\n",
       "      <th>2</th>\n",
       "      <td>LU</td>\n",
       "      <td>Luzern</td>\n",
       "      <td>1332</td>\n",
       "      <td>Lucerne</td>\n",
       "      <td>403,397[19]</td>\n",
       "      <td>65,119</td>\n",
       "      <td>1,494</td>\n",
       "      <td>233</td>\n",
       "      <td>83</td>\n",
       "      <td>German</td>\n",
       "    </tr>\n",
       "    <tr>\n",
       "      <th>3</th>\n",
       "      <td>UR</td>\n",
       "      <td>Uri</td>\n",
       "      <td>1291</td>\n",
       "      <td>Altdorf</td>\n",
       "      <td>36,145[20]</td>\n",
       "      <td>51,332</td>\n",
       "      <td>1,077</td>\n",
       "      <td>33</td>\n",
       "      <td>20</td>\n",
       "      <td>German</td>\n",
       "    </tr>\n",
       "    <tr>\n",
       "      <th>4</th>\n",
       "      <td>SZ</td>\n",
       "      <td>Schwyz</td>\n",
       "      <td>1291</td>\n",
       "      <td>Schwyz</td>\n",
       "      <td>155,863[21]</td>\n",
       "      <td>58,788</td>\n",
       "      <td>908</td>\n",
       "      <td>143</td>\n",
       "      <td>30</td>\n",
       "      <td>German</td>\n",
       "    </tr>\n",
       "  </tbody>\n",
       "</table>\n",
       "</div>"
      ],
      "text/plain": [
       "  Code Canton of Since  Capital     Population GDP percapita (2014)[16]in CHF  \\\n",
       "0   ZH    Zürich  1351   Zürich  1,504,346[17]                         96,411   \n",
       "1   BE      Bern  1353     Bern  1,031,126[18]                         76,307   \n",
       "2   LU    Luzern  1332  Lucerne    403,397[19]                         65,119   \n",
       "3   UR       Uri  1291  Altdorf     36,145[20]                         51,332   \n",
       "4   SZ    Schwyz  1291   Schwyz    155,863[21]                         58,788   \n",
       "\n",
       "  Area (km2) Density (per km2)[Note 4]  No. munic. Official languages  \n",
       "0      1,729                       701         168             German  \n",
       "1      5,960                       158         352     German, French  \n",
       "2      1,494                       233          83             German  \n",
       "3      1,077                        33          20             German  \n",
       "4        908                       143          30             German  "
      ]
     },
     "execution_count": 17,
     "metadata": {},
     "output_type": "execute_result"
    }
   ],
   "source": [
    "###the \"cantons \" data ###\n",
    "cantons.head()"
   ]
  },
  {
   "cell_type": "code",
   "execution_count": 18,
   "metadata": {
    "scrolled": true
   },
   "outputs": [
    {
     "data": {
      "text/html": [
       "<div>\n",
       "<style scoped>\n",
       "    .dataframe tbody tr th:only-of-type {\n",
       "        vertical-align: middle;\n",
       "    }\n",
       "\n",
       "    .dataframe tbody tr th {\n",
       "        vertical-align: top;\n",
       "    }\n",
       "\n",
       "    .dataframe thead th {\n",
       "        text-align: right;\n",
       "    }\n",
       "</style>\n",
       "<table border=\"1\" class=\"dataframe\">\n",
       "  <thead>\n",
       "    <tr style=\"text-align: right;\">\n",
       "      <th></th>\n",
       "      <th>canton</th>\n",
       "      <th>udc</th>\n",
       "      <th>Code</th>\n",
       "      <th>Canton of</th>\n",
       "      <th>Since</th>\n",
       "      <th>Capital</th>\n",
       "      <th>Population</th>\n",
       "      <th>GDP percapita (2014)[16]in CHF</th>\n",
       "      <th>Area (km2)</th>\n",
       "      <th>Density (per km2)[Note 4]</th>\n",
       "      <th>No. munic.</th>\n",
       "      <th>Official languages</th>\n",
       "    </tr>\n",
       "  </thead>\n",
       "  <tbody>\n",
       "    <tr>\n",
       "      <th>0</th>\n",
       "      <td>Zurich</td>\n",
       "      <td>30.0232</td>\n",
       "      <td>ZH</td>\n",
       "      <td>Zürich</td>\n",
       "      <td>1351</td>\n",
       "      <td>Zürich</td>\n",
       "      <td>1,504,346[17]</td>\n",
       "      <td>96,411</td>\n",
       "      <td>1,729</td>\n",
       "      <td>701</td>\n",
       "      <td>168</td>\n",
       "      <td>German</td>\n",
       "    </tr>\n",
       "    <tr>\n",
       "      <th>1</th>\n",
       "      <td>Berne</td>\n",
       "      <td>26.7609</td>\n",
       "      <td>BE</td>\n",
       "      <td>Bern</td>\n",
       "      <td>1353</td>\n",
       "      <td>Bern</td>\n",
       "      <td>1,031,126[18]</td>\n",
       "      <td>76,307</td>\n",
       "      <td>5,960</td>\n",
       "      <td>158</td>\n",
       "      <td>352</td>\n",
       "      <td>German, French</td>\n",
       "    </tr>\n",
       "    <tr>\n",
       "      <th>2</th>\n",
       "      <td>Lucerne</td>\n",
       "      <td>24.1156</td>\n",
       "      <td>LU</td>\n",
       "      <td>Luzern</td>\n",
       "      <td>1332</td>\n",
       "      <td>Lucerne</td>\n",
       "      <td>403,397[19]</td>\n",
       "      <td>65,119</td>\n",
       "      <td>1,494</td>\n",
       "      <td>233</td>\n",
       "      <td>83</td>\n",
       "      <td>German</td>\n",
       "    </tr>\n",
       "    <tr>\n",
       "      <th>3</th>\n",
       "      <td>Uri 1)</td>\n",
       "      <td>24.0532</td>\n",
       "      <td>UR</td>\n",
       "      <td>Uri</td>\n",
       "      <td>1291</td>\n",
       "      <td>Altdorf</td>\n",
       "      <td>36,145[20]</td>\n",
       "      <td>51,332</td>\n",
       "      <td>1,077</td>\n",
       "      <td>33</td>\n",
       "      <td>20</td>\n",
       "      <td>German</td>\n",
       "    </tr>\n",
       "    <tr>\n",
       "      <th>4</th>\n",
       "      <td>Schwytz</td>\n",
       "      <td>33.1151</td>\n",
       "      <td>SZ</td>\n",
       "      <td>Schwyz</td>\n",
       "      <td>1291</td>\n",
       "      <td>Schwyz</td>\n",
       "      <td>155,863[21]</td>\n",
       "      <td>58,788</td>\n",
       "      <td>908</td>\n",
       "      <td>143</td>\n",
       "      <td>30</td>\n",
       "      <td>German</td>\n",
       "    </tr>\n",
       "  </tbody>\n",
       "</table>\n",
       "</div>"
      ],
      "text/plain": [
       "    canton      udc Code Canton of Since  Capital     Population  \\\n",
       "0   Zurich  30.0232   ZH    Zürich  1351   Zürich  1,504,346[17]   \n",
       "1   Berne   26.7609   BE      Bern  1353     Bern  1,031,126[18]   \n",
       "2  Lucerne  24.1156   LU    Luzern  1332  Lucerne    403,397[19]   \n",
       "3   Uri 1)  24.0532   UR       Uri  1291  Altdorf     36,145[20]   \n",
       "4  Schwytz  33.1151   SZ    Schwyz  1291   Schwyz    155,863[21]   \n",
       "\n",
       "  GDP percapita (2014)[16]in CHF Area (km2) Density (per km2)[Note 4]  \\\n",
       "0                         96,411      1,729                       701   \n",
       "1                         76,307      5,960                       158   \n",
       "2                         65,119      1,494                       233   \n",
       "3                         51,332      1,077                        33   \n",
       "4                         58,788        908                       143   \n",
       "\n",
       "   No. munic. Official languages  \n",
       "0         168             German  \n",
       "1         352     German, French  \n",
       "2          83             German  \n",
       "3          20             German  \n",
       "4          30             German  "
      ]
     },
     "execution_count": 18,
     "metadata": {},
     "output_type": "execute_result"
    }
   ],
   "source": [
    "## For Question A visualize the percentage on the Map, \n",
    "#we combined the voter table (which contained the data of percentage of voters)\n",
    "#and cantons table (whcih had the cantons names and Code in English)in advance\n",
    "\n",
    "voters_cantons = pd.merge(voters_udc_nona,cantons,left_index=True,right_index=True)\n",
    "voters_cantons.head()"
   ]
  },
  {
   "cell_type": "code",
   "execution_count": 19,
   "metadata": {},
   "outputs": [
    {
     "data": {
      "text/html": [
       "<div>\n",
       "<style scoped>\n",
       "    .dataframe tbody tr th:only-of-type {\n",
       "        vertical-align: middle;\n",
       "    }\n",
       "\n",
       "    .dataframe tbody tr th {\n",
       "        vertical-align: top;\n",
       "    }\n",
       "\n",
       "    .dataframe thead th {\n",
       "        text-align: right;\n",
       "    }\n",
       "</style>\n",
       "<table border=\"1\" class=\"dataframe\">\n",
       "  <thead>\n",
       "    <tr style=\"text-align: right;\">\n",
       "      <th></th>\n",
       "      <th>canton_x</th>\n",
       "      <th>reg_voter</th>\n",
       "      <th>elector</th>\n",
       "      <th>participation</th>\n",
       "      <th>canton_y</th>\n",
       "      <th>udc</th>\n",
       "    </tr>\n",
       "  </thead>\n",
       "  <tbody>\n",
       "    <tr>\n",
       "      <th>0</th>\n",
       "      <td>Zurich</td>\n",
       "      <td>907623</td>\n",
       "      <td>428837</td>\n",
       "      <td>47.2484</td>\n",
       "      <td>Zurich</td>\n",
       "      <td>30.0232</td>\n",
       "    </tr>\n",
       "    <tr>\n",
       "      <th>1</th>\n",
       "      <td>Berne</td>\n",
       "      <td>729203</td>\n",
       "      <td>357770</td>\n",
       "      <td>49.0632</td>\n",
       "      <td>Berne</td>\n",
       "      <td>26.7609</td>\n",
       "    </tr>\n",
       "    <tr>\n",
       "      <th>2</th>\n",
       "      <td>Lucerne</td>\n",
       "      <td>271143</td>\n",
       "      <td>138096</td>\n",
       "      <td>50.9311</td>\n",
       "      <td>Lucerne</td>\n",
       "      <td>24.1156</td>\n",
       "    </tr>\n",
       "    <tr>\n",
       "      <th>3</th>\n",
       "      <td>Uri 1)</td>\n",
       "      <td>26414</td>\n",
       "      <td>15091</td>\n",
       "      <td>57.1326</td>\n",
       "      <td>Uri 1)</td>\n",
       "      <td>24.0532</td>\n",
       "    </tr>\n",
       "    <tr>\n",
       "      <th>4</th>\n",
       "      <td>Schwytz</td>\n",
       "      <td>102145</td>\n",
       "      <td>54857</td>\n",
       "      <td>53.705</td>\n",
       "      <td>Schwytz</td>\n",
       "      <td>33.1151</td>\n",
       "    </tr>\n",
       "  </tbody>\n",
       "</table>\n",
       "</div>"
      ],
      "text/plain": [
       "  canton_x reg_voter elector participation canton_y      udc\n",
       "0   Zurich    907623  428837       47.2484   Zurich  30.0232\n",
       "1    Berne    729203  357770       49.0632   Berne   26.7609\n",
       "2  Lucerne    271143  138096       50.9311  Lucerne  24.1156\n",
       "3   Uri 1)     26414   15091       57.1326   Uri 1)  24.0532\n",
       "4  Schwytz    102145   54857        53.705  Schwytz  33.1151"
      ]
     },
     "execution_count": 19,
     "metadata": {},
     "output_type": "execute_result"
    }
   ],
   "source": [
    "##### For Question B visualize the number of voters for UDC, \n",
    "#we combined voters table (had percentage of voters) and the national_council_elections table (had the total number of the voters) in  advance\n",
    "\n",
    "voters_udc_nce = pd.merge(nce,voters_udc_nona,left_index=True,right_index=True)\n",
    "voters_udc_nce.head()"
   ]
  },
  {
   "cell_type": "code",
   "execution_count": 20,
   "metadata": {},
   "outputs": [],
   "source": [
    "# load the json file\n",
    "geo_data = json.load(open(suisse_cantons))"
   ]
  },
  {
   "cell_type": "code",
   "execution_count": 21,
   "metadata": {},
   "outputs": [],
   "source": [
    "# visualize the percentage of voters on the Swiss map\n",
    "swiss_map_percent=folium.Map([46.7,8], zoom_start=7)\n",
    "\n",
    "swiss_map_percent.choropleth(geo_data=geo_data, data=voters_cantons,\n",
    "                             columns=['Code', 'udc'],\n",
    "                             key_on='feature.id',\n",
    "                             topojson = 'objects.cantons',\n",
    "                             fill_color='BuPu', fill_opacity=0.7, line_opacity=0.2,\n",
    "                             legend_name='Percentage of Voters for UDC (%)')\n",
    "swiss_map_percent.save('Swiss_Map_Percent.html')"
   ]
  },
  {
   "cell_type": "markdown",
   "metadata": {},
   "source": [
    "[Click to see the percentage of voters for UDC](https://wanhaozhou.github.io/docs/Swiss_Map_Percent.html)"
   ]
  },
  {
   "cell_type": "markdown",
   "metadata": {},
   "source": [
    "###  Answer to the Task2.A\n",
    "### Does this party seem to be more popular in the German-speaking part, the French-speaking part, or the Italian-speaking part?\n",
    "1). As shown in the map above, the German-speaking parts are in dark violet revealing that UDC is more popular in the German-speaking part."
   ]
  },
  {
   "cell_type": "markdown",
   "metadata": {},
   "source": [
    "### Task2 __B)__  Visualize the number of residents in each canton who voted for UDC."
   ]
  },
  {
   "cell_type": "code",
   "execution_count": 22,
   "metadata": {},
   "outputs": [],
   "source": [
    "# calculate the number of the voters by using the following equation: electors number * percentage of voters for UDC\n",
    "voters_udc_nce['udc_num'] = voters_udc_nce['elector']*voters_udc_nce['udc']*0.01"
   ]
  },
  {
   "cell_type": "code",
   "execution_count": 23,
   "metadata": {},
   "outputs": [],
   "source": [
    "# merge the new 'voters_udc_nce' whcih has the data of the number of the voters now with the cantons again \n",
    "voters_udc_nce = pd.merge(voters_udc_nce,cantons,left_index=True,right_index=True)"
   ]
  },
  {
   "cell_type": "code",
   "execution_count": 24,
   "metadata": {},
   "outputs": [],
   "source": [
    "#visualize the number of the UDC voters on the Swiss map\n",
    "swiss_map_number = folium.Map([46.7,8], zoom_start=7)\n",
    "\n",
    "swiss_map_number.choropleth(geo_data=geo_data, data=voters_udc_nce,\n",
    "                            columns=['Code', 'udc_num'],\n",
    "                            key_on='feature.id',topojson='objects.cantons',\n",
    "                            fill_color='BuPu', fill_opacity=0.7, line_opacity=0.2,\n",
    "                            legend_name='Numbers of UDC voters ')\n",
    "swiss_map_number.save('Swiss_Map_Number.html')"
   ]
  },
  {
   "cell_type": "markdown",
   "metadata": {},
   "source": [
    "[Click to see the voters for UDC](https://wanhaozhou.github.io/docs/Swiss_Map_Number.html)"
   ]
  },
  {
   "cell_type": "markdown",
   "metadata": {},
   "source": [
    "### Answers to Task2.C\n",
    "### Which one of the two visualizations above would be more informative in case of a national election with majority voting (i.e. when a party needs to have the largest number of citizens voting for it among all parties)? Which one is more informative for the cantonal parliament elections?\n",
    "1). The second one is more informative in case of a national election since this kind of election judges on the absolute number of voters but not the percentage. In the second map, we can clearly see which canton has a larger number of voters for UDC. But in the first map, we only know the percentage of the voters in each canton. Maybe in those cantons with high percentage but with small population, they can induce wrong decision and misunderstanding.\n",
    "\n",
    "2). In case of cantonal parliament elections, the party needs to have the largset number of voters in the canton to win which means it needs to have the largest percentage of voters in the cantons. Therefore the first map which shows the percentage of voters for UDC in each canton is more directive and informative for the cantonal parliament elections."
   ]
  },
  {
   "cell_type": "markdown",
   "metadata": {},
   "source": [
    "## Task 3: More socialism or more nationalism?\n",
    "\n",
    "In this section, we focus on two parties that are representative of the left and the right on the Swiss political spectrum. You will propose a way to visualize their influence over time and for each canton.\n",
    "\n",
    "__A)__ Take the two parties [`UDC`](https://en.wikipedia.org/wiki/Swiss_People%27s_Party) (Union démocratique du centre) and [`PS`](https://en.wikipedia.org/wiki/Social_Democratic_Party_of_Switzerland) (Parti socialiste suisse). For each canton, we define 'right lean' in a certain period as follows:\n",
    "\n",
    "$$\\frac{VoteShare_{UDC} - VoteShare_{PS}}{VoteShare_{UDC} + VoteShare_{PS}}$$  \n",
    "\n",
    "Visualize the right lean of each canton on the map. What conclusions can you draw this time? Can you observe the [röstigraben](https://en.wikipedia.org/wiki/R%C3%B6stigraben) ?\n",
    "\n",
    "__B)__ For each party, devise a way to visualize the difference between its 2014-2018 vote share (i.e. percentage) and its 2010-2013 vote share for each canton. Propose a way to visualize this evolution of the party over time, and justify your choices. There's no single correct answer, but you must reasonably explain your choices."
   ]
  },
  {
   "cell_type": "markdown",
   "metadata": {},
   "source": [
    "### Task3 __A)__  Visualize the right lean of each canton on the map. "
   ]
  },
  {
   "cell_type": "code",
   "execution_count": 25,
   "metadata": {},
   "outputs": [],
   "source": [
    "# extract the data for PS party using the similar way we did for the UDC in the above part\n",
    "voters_ps = pd.read_excel(data_folder+'voters.xls',sheet_name=0,usecols=[0,8],names=['canton','ps'])\n",
    "voters_ps['ps'][23] = 1e-6\n",
    "voters_ps['ps'][25] = 1e-6\n",
    "voters_ps_nona = voters_ps.dropna()\n",
    "voters_ps_nona.index = range(len(voters_ps_nona.index))"
   ]
  },
  {
   "cell_type": "code",
   "execution_count": 26,
   "metadata": {},
   "outputs": [
    {
     "data": {
      "text/html": [
       "<div>\n",
       "<style scoped>\n",
       "    .dataframe tbody tr th:only-of-type {\n",
       "        vertical-align: middle;\n",
       "    }\n",
       "\n",
       "    .dataframe tbody tr th {\n",
       "        vertical-align: top;\n",
       "    }\n",
       "\n",
       "    .dataframe thead th {\n",
       "        text-align: right;\n",
       "    }\n",
       "</style>\n",
       "<table border=\"1\" class=\"dataframe\">\n",
       "  <thead>\n",
       "    <tr style=\"text-align: right;\">\n",
       "      <th></th>\n",
       "      <th>canton</th>\n",
       "      <th>right_lean</th>\n",
       "      <th>Code</th>\n",
       "      <th>Canton of</th>\n",
       "      <th>Since</th>\n",
       "      <th>Capital</th>\n",
       "      <th>Population</th>\n",
       "      <th>GDP percapita (2014)[16]in CHF</th>\n",
       "      <th>Area (km2)</th>\n",
       "      <th>Density (per km2)[Note 4]</th>\n",
       "      <th>No. munic.</th>\n",
       "      <th>Official languages</th>\n",
       "    </tr>\n",
       "  </thead>\n",
       "  <tbody>\n",
       "    <tr>\n",
       "      <th>0</th>\n",
       "      <td>Zurich</td>\n",
       "      <td>0.207214</td>\n",
       "      <td>ZH</td>\n",
       "      <td>Zürich</td>\n",
       "      <td>1351</td>\n",
       "      <td>Zürich</td>\n",
       "      <td>1,504,346[17]</td>\n",
       "      <td>96,411</td>\n",
       "      <td>1,729</td>\n",
       "      <td>701</td>\n",
       "      <td>168</td>\n",
       "      <td>German</td>\n",
       "    </tr>\n",
       "    <tr>\n",
       "      <th>1</th>\n",
       "      <td>Berne</td>\n",
       "      <td>0.0902857</td>\n",
       "      <td>BE</td>\n",
       "      <td>Bern</td>\n",
       "      <td>1353</td>\n",
       "      <td>Bern</td>\n",
       "      <td>1,031,126[18]</td>\n",
       "      <td>76,307</td>\n",
       "      <td>5,960</td>\n",
       "      <td>158</td>\n",
       "      <td>352</td>\n",
       "      <td>German, French</td>\n",
       "    </tr>\n",
       "    <tr>\n",
       "      <th>2</th>\n",
       "      <td>Lucerne</td>\n",
       "      <td>0.341078</td>\n",
       "      <td>LU</td>\n",
       "      <td>Luzern</td>\n",
       "      <td>1332</td>\n",
       "      <td>Lucerne</td>\n",
       "      <td>403,397[19]</td>\n",
       "      <td>65,119</td>\n",
       "      <td>1,494</td>\n",
       "      <td>233</td>\n",
       "      <td>83</td>\n",
       "      <td>German</td>\n",
       "    </tr>\n",
       "    <tr>\n",
       "      <th>3</th>\n",
       "      <td>Uri 1)</td>\n",
       "      <td>0.298833</td>\n",
       "      <td>UR</td>\n",
       "      <td>Uri</td>\n",
       "      <td>1291</td>\n",
       "      <td>Altdorf</td>\n",
       "      <td>36,145[20]</td>\n",
       "      <td>51,332</td>\n",
       "      <td>1,077</td>\n",
       "      <td>33</td>\n",
       "      <td>20</td>\n",
       "      <td>German</td>\n",
       "    </tr>\n",
       "    <tr>\n",
       "      <th>4</th>\n",
       "      <td>Schwytz</td>\n",
       "      <td>0.438521</td>\n",
       "      <td>SZ</td>\n",
       "      <td>Schwyz</td>\n",
       "      <td>1291</td>\n",
       "      <td>Schwyz</td>\n",
       "      <td>155,863[21]</td>\n",
       "      <td>58,788</td>\n",
       "      <td>908</td>\n",
       "      <td>143</td>\n",
       "      <td>30</td>\n",
       "      <td>German</td>\n",
       "    </tr>\n",
       "  </tbody>\n",
       "</table>\n",
       "</div>"
      ],
      "text/plain": [
       "    canton right_lean Code Canton of Since  Capital     Population  \\\n",
       "0   Zurich   0.207214   ZH    Zürich  1351   Zürich  1,504,346[17]   \n",
       "1   Berne   0.0902857   BE      Bern  1353     Bern  1,031,126[18]   \n",
       "2  Lucerne   0.341078   LU    Luzern  1332  Lucerne    403,397[19]   \n",
       "3   Uri 1)   0.298833   UR       Uri  1291  Altdorf     36,145[20]   \n",
       "4  Schwytz   0.438521   SZ    Schwyz  1291   Schwyz    155,863[21]   \n",
       "\n",
       "  GDP percapita (2014)[16]in CHF Area (km2) Density (per km2)[Note 4]  \\\n",
       "0                         96,411      1,729                       701   \n",
       "1                         76,307      5,960                       158   \n",
       "2                         65,119      1,494                       233   \n",
       "3                         51,332      1,077                        33   \n",
       "4                         58,788        908                       143   \n",
       "\n",
       "   No. munic. Official languages  \n",
       "0         168             German  \n",
       "1         352     German, French  \n",
       "2          83             German  \n",
       "3          20             German  \n",
       "4          30             German  "
      ]
     },
     "execution_count": 26,
     "metadata": {},
     "output_type": "execute_result"
    }
   ],
   "source": [
    "#combine the udc party data we obained in the Task 2 and the PS party data.\n",
    "voters_udc_ps = pd.merge(voters_udc_nona, voters_ps_nona, left_on='canton',right_on='canton')\n",
    "\n",
    "#compute the right lean value by following the equation shown in the question A.\n",
    "voters_udc_ps['right_lean'] = (voters_udc_ps['udc']-voters_udc_ps['ps'])/(voters_udc_ps['udc']+voters_udc_ps['ps'])\n",
    "\n",
    "#since we don't need the percentage of the voters for the parties, we drop out these two percentage columns\n",
    "voters_udc_ps_right_lean = voters_udc_ps.drop(columns=['udc', 'ps'])\n",
    "\n",
    "#merge the table with right lean data with the cantons table which has the cantons names\n",
    "voters_cantons_right_lean = pd.merge(voters_udc_ps_right_lean,cantons,left_index=True,right_index=True)\n",
    "voters_cantons_right_lean.head()"
   ]
  },
  {
   "cell_type": "code",
   "execution_count": 27,
   "metadata": {},
   "outputs": [],
   "source": [
    "# in order to see the \"röstigraben\", we customize the geojson to\n",
    "# illustrate the German-speaking part and French-peaking part\n",
    "\n",
    "# for convenience we use the converted geojson file when plotting the boundary of German-speaking parts\n",
    "# and French-speaking parts\n",
    "\n",
    "# use \"geojson\" data for maps\n",
    "with urllib.request.urlopen('https://raw.githubusercontent.com/wanhaozhou/ADA-utils/master/cantons.json') as url:\n",
    "    geo_json_data_raw = json.loads(url.read().decode())\n",
    "\n",
    "\n",
    "cantons_new = pd.read_csv(data_folder+'cantons.csv')\n",
    "cantons_new = cantons_new.set_index(['Code'])\n",
    "t1 = cp.deepcopy(geo_json_data_raw)\n",
    "t2 = cp.deepcopy(geo_json_data_raw)\n",
    "\n",
    "# we use the cantons.csv file to divide geojson file into different parts\n",
    "def divide_by_language(geo_data,language):\n",
    "    if(language=='French'):\n",
    "        for i in range(25):\n",
    "            l=cantons_new.loc[geo_data['features'][i]['id']]['Official languages']\n",
    "            if(l=='German' or l=='German, French' or l=='French, German' or l=='German, Romansh, Italian'):\n",
    "                geo_data['features'][i]={}\n",
    "    \n",
    "    if(language=='German'):\n",
    "         for i in range(25):\n",
    "            l=cantons_new.loc[geo_data['features'][i]['id']]['Official languages']\n",
    "            if(l=='French' or l=='German, French' or l=='French, German'):\n",
    "                geo_data['features'][i]={}\n",
    "                    \n",
    "    return geo_data\n",
    "\n",
    "# these two geojson files are used to illustrate the German-speaking part and the French-speaking part\n",
    "geo_json_data_german = divide_by_language(t1, 'German')\n",
    "geo_json_data_french = divide_by_language(t2, 'French')"
   ]
  },
  {
   "cell_type": "code",
   "execution_count": 28,
   "metadata": {},
   "outputs": [],
   "source": [
    "m_udc_ps = folium.Map([46.7,8],zoom_start=7)\n",
    "\n",
    "def style_function_german(feature):\n",
    "    return {\n",
    "        'fillOpacity': 0,\n",
    "        'weight': 4,\n",
    "        'color':'green'\n",
    "    }\n",
    "\n",
    "def style_function_french(feature):\n",
    "    return {\n",
    "        'fillOpacity': 0,\n",
    "        'weight': 4,\n",
    "        'color':'blue'\n",
    "    }\n",
    "\n",
    "# build the map for German-speaking part\n",
    "folium.GeoJson(\n",
    "    geo_json_data_german,\n",
    "    name='German Speaking',\n",
    "    style_function = style_function_german\n",
    ").add_to(m_udc_ps)\n",
    "\n",
    "# build the map for French-speaking part\n",
    "folium.GeoJson(\n",
    "    geo_json_data_french,\n",
    "    name='French Speaking',\n",
    "    style_function = style_function_french\n",
    ").add_to(m_udc_ps)\n",
    "\n",
    "# build the right-lean map, here we stick to the topojson data\n",
    "m_udc_ps.choropleth(geo_data=geo_data, \n",
    "                data=voters_cantons_right_lean,\n",
    "                columns=['Code', 'right_lean'],\n",
    "                key_on='feature.id',\n",
    "                topojson='objects.cantons',\n",
    "                fill_color='YlOrRd', fill_opacity=0.6, line_opacity=0,\n",
    "                legend_name='Right Lean', name = 'Right Lean Tendency')\n",
    "\n",
    "folium.LayerControl().add_to(m_udc_ps)\n",
    "\n",
    "m_udc_ps.save('M_UDC_PS.html')\n"
   ]
  },
  {
   "cell_type": "markdown",
   "metadata": {},
   "source": [
    "[Click to see the right lean tendency](https://wanhaozhou.github.io/docs/M_UDC_PS.html)"
   ]
  },
  {
   "cell_type": "markdown",
   "metadata": {},
   "source": [
    "### Answers to Task3. A\n",
    "### What conclusions can you draw this time? Can you observe the röstigraben ?\n",
    "1). As shown in the right lean map, gernerally most of the German-speaking areas are in dark violet or light violet whereas most of the French-speaking areas and Italian areas are in light blue which means the German-speaking areas voters are more or less more nationalism whereas the French-speaking and Italian-speaking areas voters are more socialism.  \n",
    "\n",
    "2). Yes, we can observe the röstigraben by showing the contours of the French-speaking parts and German-speaking parts in different colors. We can see that the röstigraben is more or less overlaped with the spliting line of yellow and orange, meaning less right lean and more right lean respectively."
   ]
  },
  {
   "cell_type": "markdown",
   "metadata": {
    "collapsed": true
   },
   "source": [
    "### Task3 __B)__  For each party, devise a way to visualize the difference between its 2014-2018 vote share and its 2010-2013 vote share for each canton"
   ]
  },
  {
   "cell_type": "code",
   "execution_count": 29,
   "metadata": {},
   "outputs": [],
   "source": [
    "#To visualize the difference of the vote share between the two period, we calculated the difference percentage by this equation :\n",
    "#(2014_2018-2010_2013)/2014_2018\n",
    "#and shown this difference in color on the map\n",
    "\n",
    "#read the sheet 2014-2018, and only extracted the columns of cantons names, UDC as well as PS\n",
    "data_14_18 = pd.read_excel(data_folder + '/voters.xls',sheet_name= 'actuel (2014-2018)', \n",
    "                           usecols=[0,8,10],header =3,skipfooter=55)\n",
    "\n",
    "#drop out the redundant rows and repalce the nan by 0.1 for the purpose of further calculation convenience \n",
    "data_14_18 = data_14_18.reset_index().drop([0,1,7,13,19,25]).reset_index().drop(columns=['level_0']).replace(np.nan,0.01)\n",
    "\n",
    "#combine the data of 2014-2018 with the cantons codes\n",
    "data_14_18 = pd.concat([cantons.Code,data_14_18],axis=1)\n",
    "\n",
    "#Cleaned the sheet 2010-2013 using the similar way we did for sheet 2014-2018 in the above part\n",
    "data_10_13 = pd.read_excel(data_folder + '/voters.xls',sheet_name= '2010-2013', \n",
    "                           usecols=[0,8,10],header =3,skipfooter=50)\n",
    "data_10_13 = data_10_13.reset_index().drop([0,1,7,13,19,25]).reset_index().drop(columns=['level_0']).replace(np.nan,0.01)\n",
    "data_10_13 = pd.concat([cantons.Code,data_10_13],axis=1)\n",
    "\n",
    "#computed the difference between 2014-2018 and 2010-2013 for PS and UDC respectively\n",
    "dif_PS = pd.DataFrame({'Code':data_14_18.Code,\n",
    "                    'Difference':(data_14_18['PS']-data_10_13['PS'] )/data_10_13['PS']})\n",
    "dif_UDC = pd.DataFrame({'Code':data_14_18.Code,\n",
    "                    'Difference':(data_14_18['UDC']-data_10_13['UDC'] )/data_10_13['UDC']})\n"
   ]
  },
  {
   "cell_type": "code",
   "execution_count": 30,
   "metadata": {},
   "outputs": [],
   "source": [
    "#Visualize the difference between 2014-2018 and 2010-2013 for PS on Swiss map\n",
    "m_PS = folium.Map([46.7,8],zoom_start=7)\n",
    "m_PS.choropleth(geo_data=geo_data,\n",
    "                data=dif_PS,\n",
    "                columns=['Code', 'Difference'],\n",
    "                key_on='feature.id',\n",
    "                topojson='objects.cantons',\n",
    "                fill_color='BuPu', fill_opacity=0.7, line_opacity=0.2,\n",
    "                legend_name='Difference for PS')\n",
    "m_PS.save('M_PS.html')"
   ]
  },
  {
   "cell_type": "markdown",
   "metadata": {},
   "source": [
    "[Click to see the difference for party 'ps'](https://wanhaozhou.github.io/docs/M_PS.html)"
   ]
  },
  {
   "cell_type": "markdown",
   "metadata": {},
   "source": [
    "### Observation of the votes share difference between 2014-2018 and 2010-2013 for PS.\n",
    "\n",
    "As we see from the map, most of the areas are in light blue or in blue which means that from 2010-2013 to 2014-2018, the votes share for the PS party has decreased or only a little bit increased in most of the cantons. However, there is one conspicuous canton named Nidwald in violet revealing that this canton tended to support the PS party from 2010-2013 to 2014-2018."
   ]
  },
  {
   "cell_type": "code",
   "execution_count": 31,
   "metadata": {},
   "outputs": [],
   "source": [
    "#Visualize the difference between 2014-2018 and 2010-2013 for UDC on Swiss map\n",
    "m_UDC = folium.Map([46.7,8],zoom_start=7)\n",
    "m_UDC.choropleth(geo_data=geo_data, \n",
    "                data=dif_UDC,\n",
    "                columns=['Code', 'Difference'],\n",
    "                key_on='feature.id',\n",
    "                topojson='objects.cantons',\n",
    "                fill_color='BuPu', fill_opacity=0.7, line_opacity=0.2,\n",
    "                legend_name='Vote Share Difference for UDC', name = 'vote share difference for UDC')\n",
    "m_UDC.save('M_UDC.html')"
   ]
  },
  {
   "cell_type": "markdown",
   "metadata": {},
   "source": [
    "[Click to see the difference for party 'udc'](https://wanhaozhou.github.io/docs/M_UDC.html)"
   ]
  },
  {
   "cell_type": "markdown",
   "metadata": {},
   "source": [
    "### Observation of the voters share difference between 2014-2018 and 2010-2013 for UDC\n",
    "From the map for the UDC party vote share, generally most of the cantons are in blue which means the votes share for the UDC party has decreased as well from 2010-2013 to 2014-2018. Noted that only two cantons named Jura and St. Gall are in violet meaning that these two cantons' votes share has increased from 2010-2013 to 2014-2018."
   ]
  },
  {
   "cell_type": "markdown",
   "metadata": {},
   "source": [
    "### Task3 __B)__  Propose a way to visualize this evolution of the party over time, and justify your choices."
   ]
  },
  {
   "cell_type": "markdown",
   "metadata": {},
   "source": [
    "**In this part, we attemt to use all data available to illustrate the trend over time**"
   ]
  },
  {
   "cell_type": "code",
   "execution_count": 32,
   "metadata": {},
   "outputs": [],
   "source": [
    "# we are gonna to make a choropleth with different layers to show the evolution of the PS and of the UDC over time\n",
    "\n",
    "cantons = cantons.drop(columns=['Canton of','Since','Capital','Population',\n",
    "                                'GDP percapita (2014)[16]in CHF','Area (km2)',\n",
    "                                'Density (per km2)[Note 4]','No. munic.','Official languages'])\n",
    "\n",
    "\n",
    "# define all the sheets we are going to use\n",
    "sheet_list = ['actuel (2014-2018)', '2013-2017', '2012-2016', '2011-2015', '2010-2014', \n",
    "             '2010-2013','2009-2012', '2008-2011','2007-2010']\n",
    "\n",
    "sheet_list.reverse()\n",
    "\n",
    "# return a list of data frames containing all data\n",
    "def get_ps_udc_data (sheet_list):\n",
    "    pds = []\n",
    "    for i, sheet in enumerate(sheet_list):\n",
    "        df = pd.read_excel(data_folder+'voters.xls',sheet_name= sheet_list[i],\n",
    "                           usecols=[0,2,8,10],names=['Cantons','Years','PS','UDC'])\n",
    "        \n",
    "        df['PS'][23] = 1e-6; df['PS'][25] = 1e-6; df['UDC'][23] = 1e-6; df['UDC'][25] = 1e-6\n",
    "        \n",
    "        if sheet == '2007-2010':\n",
    "            df['PS'][21] = 1e-6; df['UDC'][21] = 1e-6\n",
    "        df_nona = df.dropna()\n",
    "        df_nona.index = range(len(df_nona.index))\n",
    "        df_cantons = pd.merge(df_nona,cantons,left_index=True,right_index=True)\n",
    "        pds.append(df_cantons)\n",
    "    return pds\n",
    "\n",
    "udc_ps = get_ps_udc_data(sheet_list)\n"
   ]
  },
  {
   "cell_type": "code",
   "execution_count": 33,
   "metadata": {},
   "outputs": [],
   "source": [
    "# define two maps for two parties\n",
    "m_udc_evolution = folium.Map([47.5,8],zoom_start=6.5)\n",
    "m_ps_evolution = folium.Map([47.5,8],zoom_start=6.5)\n",
    "\n",
    "# create the evolution map iteratively\n",
    "def create_evolution_map(init_map, dfs, party_name, colors):\n",
    "    for i in range(len(dfs)):\n",
    "        init_map.choropleth(geo_data = geo_data, data = dfs[i],\n",
    "                            columns = ['Code', party_name], key_on='feature.id',\n",
    "                            topojson = 'objects.cantons', \n",
    "                            fill_color = colors, fill_opacity=0.7, line_opacity=0.2,\n",
    "                            legend_name = party_name + '\\t' + sheet_list[i],\n",
    "                            name = party_name + '\\t' + sheet_list[i])\n",
    "    folium.LayerControl().add_to(init_map)\n",
    "\n",
    "create_evolution_map(m_udc_evolution, udc_ps, 'UDC', 'BuPu')\n",
    "create_evolution_map(m_ps_evolution, udc_ps, 'PS', 'YlOrRd')\n",
    "m_udc_evolution.save('m_udc_evolution.html')\n",
    "m_ps_evolution.save('m_ps_evolution.html')\n"
   ]
  },
  {
   "cell_type": "markdown",
   "metadata": {},
   "source": [
    "[Click to see the evolution graph for party 'udc'](https://wanhaozhou.github.io/docs/m_udc_evolution.html)"
   ]
  },
  {
   "cell_type": "markdown",
   "metadata": {},
   "source": [
    "[Click to see the evolution graph for party 'ps'](https://wanhaozhou.github.io/docs/m_ps_evolution.html)"
   ]
  },
  {
   "cell_type": "markdown",
   "metadata": {},
   "source": [
    "### Remarks for Method 1: using multiple layers to stack together\n",
    "Using this method, two maps are created for UDC and PS respectively. Both maps contain 9 periods layers stacking on the same map. We can select the period we want to observe by clicking the corresponding map box on the right side.\n",
    "\n",
    "In this case we can more or less grasp a basic idea of the vote share distribution among various cantons over years. Generally, the majority of the French-speaking cantons always have higher votes share for PS and the votes share decreased gradually from the western Germam-speaking parts to the eastern German-speaking parts. However, the maps of the votes share for UDC comes to the other way around. The majority of the German-speaking cantons always had higher votes share for UDC whereas the French-speaking parts always had fewer votes share over these years.\n",
    "\n",
    "However, we addmitted that the evolution over the years wasn't presented very well in this map, and to show the trend vs. time, we adopt an alternative method presented below."
   ]
  },
  {
   "cell_type": "code",
   "execution_count": 34,
   "metadata": {},
   "outputs": [],
   "source": [
    "# alternatively, we use the TimeSliderChoropleth function to show the evolution with time.\n",
    "\n",
    "######  Creating the style dictionary ########\n",
    "\n",
    "# first conver the year to the standard type\n",
    "n_periods = 9\n",
    "datetime_index = pd.date_range('2010-1-1', periods=n_periods, freq='Y')\n",
    "dt_index_epochs = datetime_index.astype(int) // 10**9\n",
    "dt_index = dt_index_epochs.astype('U10')\n",
    "\n",
    "# construct the style dict the TimeSliderChoropleth needs\n",
    "def make_style_dict(voter_list,features,colormap):\n",
    "    style_dict={}\n",
    "    for i in range(len(voter_list[0])):\n",
    "        style_dict[voter_list[0]['Code'][i]]={}\n",
    "    for c, value in enumerate(voter_list):\n",
    "        df={}\n",
    "        df['id']=value['Code']\n",
    "        df[features]=value[features]\n",
    "        df=pd.DataFrame(df)\n",
    "        df=df.set_index(['id'])\n",
    "        df[features]=df[features].apply(colormap)\n",
    "        for i in range(len(df)):\n",
    "            style_dict[df.index[i]][dt_index[c]]={'color':df[features][i],'opacity':1.0}\n",
    "    return style_dict"
   ]
  },
  {
   "cell_type": "code",
   "execution_count": 35,
   "metadata": {},
   "outputs": [],
   "source": [
    "# use \"geojson\" data for maps\n",
    "with urllib.request.urlopen('https://raw.githubusercontent.com/wanhaozhou/ADA-utils/master/cantons.json') as url:\n",
    "    geo_json_data = json.loads(url.read().decode())"
   ]
  },
  {
   "cell_type": "code",
   "execution_count": 36,
   "metadata": {},
   "outputs": [],
   "source": [
    "# construct the time slider for udc\n",
    "colormap_UDC = linear.BuPu_09.scale(0,38)\n",
    "udc = make_style_dict(udc_ps,'UDC',colormap_UDC)\n",
    "m_udc_evolution_time = folium.Map([46.7,8], zoom_start=7)\n",
    "plugins.TimeSliderChoropleth(geo_json_data, udc).add_to(m_udc_evolution_time)\n",
    "m_udc_evolution_time.save('m_udc_evolution_time.html')"
   ]
  },
  {
   "cell_type": "markdown",
   "metadata": {},
   "source": [
    "[Click to see the evolution graph with time for party 'udc'](https://wanhaozhou.github.io/docs/m_udc_evolution_time.html)"
   ]
  },
  {
   "cell_type": "code",
   "execution_count": 37,
   "metadata": {
    "scrolled": true
   },
   "outputs": [],
   "source": [
    "# construct the time slider for ps\n",
    "colormap_PS = linear.YlOrRd_05.scale(0,33)\n",
    "ps = make_style_dict(udc_ps,'PS',colormap_PS)\n",
    "m_ps_evolution_time = folium.Map([46.7,8], zoom_start=7)\n",
    "plugins.TimeSliderChoropleth(geo_json_data, ps).add_to(m_ps_evolution_time)\n",
    "m_ps_evolution_time.save('m_ps_evolution_time.html')"
   ]
  },
  {
   "cell_type": "markdown",
   "metadata": {},
   "source": [
    "[Click to see the evolution graph with time for party 'ps'](https://wanhaozhou.github.io/docs/m_ps_evolution_time.html)"
   ]
  },
  {
   "cell_type": "markdown",
   "metadata": {},
   "source": [
    "### Remarks for Method 2: using the TimeSliderChoropleth function\n",
    "This time we can clearly see the evolution of the votes share for different cantons over years by tuning the timesline. \n",
    "\n",
    "For the PS party, we observed the similar situation with the one we saw in Method 1. There was only a little variation for the canotons over years and mainly the French-speaking parts are more likely to vote for the PS. \n",
    "But for the UDC party map, we can see that the main supporters for UDC are from the German-speaking parts; in addition, we found that the vote share of French-speaking parts was gradually increasing over the years. That's what we neglect in Method 1.\n",
    "\n",
    "Obviously, the Method 2 can better show the evolution over time.\n"
   ]
  },
  {
   "cell_type": "markdown",
   "metadata": {},
   "source": [
    "### Comparison between two methods:\n",
    "#### Method 1:The legends are various in different time period. \n",
    "Advantage: The comparison among different cantons in the same period is more obvious.\n",
    "\n",
    "Drawback: The comparisons among different time periods is obscure. \n",
    "\n",
    "#### Method 2: The legend is always the same in all the time periods.\n",
    "Advantage: The comparison among different years is more concrete.\n",
    "\n",
    "Drawback: In the same period, the comparison among different cantons is less evident compared to the method 1."
   ]
  },
  {
   "cell_type": "code",
   "execution_count": null,
   "metadata": {},
   "outputs": [],
   "source": []
  }
 ],
 "metadata": {
  "kernelspec": {
   "display_name": "Python [default]",
   "language": "python",
   "name": "python3"
  },
  "language_info": {
   "codemirror_mode": {
    "name": "ipython",
    "version": 3
   },
   "file_extension": ".py",
   "mimetype": "text/x-python",
   "name": "python",
   "nbconvert_exporter": "python",
   "pygments_lexer": "ipython3",
   "version": "3.6.6"
  }
 },
 "nbformat": 4,
 "nbformat_minor": 2
}
